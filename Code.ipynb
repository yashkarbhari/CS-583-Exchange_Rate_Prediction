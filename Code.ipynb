{
 "cells": [
  {
   "cell_type": "code",
   "execution_count": 3,
   "id": "cd6dd089",
   "metadata": {},
   "outputs": [
    {
     "name": "stderr",
     "output_type": "stream",
     "text": [
      "C:\\anaconda\\lib\\site-packages\\scipy\\__init__.py:146: UserWarning: A NumPy version >=1.16.5 and <1.23.0 is required for this version of SciPy (detected version 1.26.0\n",
      "  warnings.warn(f\"A NumPy version >={np_minversion} and <{np_maxversion}\"\n"
     ]
    }
   ],
   "source": [
    "import pandas as pd\n",
    "import numpy as np\n",
    "import datetime\n",
    "from sklearn.preprocessing import MinMaxScaler\n",
    "#pd.options.display.float_format = '{:.0f}'.format\n",
    "\n",
    "from keras.models import Sequential\n",
    "from keras.layers import LSTM\n",
    "from keras.layers import Dense\n",
    "from keras.layers import SimpleRNN\n",
    "from keras.layers import Dropout\n",
    "from keras.layers import GRU, Bidirectional\n",
    "from keras.optimizers import SGD\n",
    "from sklearn import metrics\n",
    "from sklearn.metrics import mean_squared_error\n",
    "import matplotlib.pyplot as plt\n"
   ]
  },
  {
   "cell_type": "code",
   "execution_count": 4,
   "id": "dc1e6013",
   "metadata": {},
   "outputs": [],
   "source": [
    "forex_df = pd.read_csv(\"Dataset\\\\Forex_data.csv\")\n",
    "forex_df['Series Description'] = pd.to_datetime(forex_df['Series Description'], format=\"%d-%m-%Y\")\n",
    "\n",
    "inflation_df_Ind = pd.read_csv(\"Dataset\\\\Consumer_Price_Index_India.csv\")\n",
    "inflation_df_Ind['DATE'] = pd.to_datetime(inflation_df_Ind['DATE'], format=\"%Y-%m-%d\")\n",
    "\n",
    "inflation_df_Ind = inflation_df_Ind.rename(columns={'DATE': 'DATE_Inf_Ind', 'CPALTT01INM659N' : 'Inflation_Ind'})\n",
    "\n",
    "inflation_df_us = pd.read_csv(\"Dataset\\\\Consumer_Price_Index_USA.csv\")\n",
    "inflation_df_us['DATE'] = pd.to_datetime(inflation_df_us['DATE'], format=\"%Y-%m-%d\")\n",
    "\n",
    "inflation_df_us = inflation_df_us.rename(columns={'DATE': 'DATE_Inf_US', 'CPALTT01USM657N' : 'Inflation_US'})\n",
    "\n",
    "df = pd.merge_asof(forex_df, inflation_df_Ind, left_on='Series Description', right_on= 'DATE_Inf_Ind', direction='nearest', tolerance=pd.Timedelta(\"2 day\"))\n",
    "\n",
    "df = pd.merge_asof(df, inflation_df_us, left_on='Series Description', right_on= 'DATE_Inf_US', direction='nearest', tolerance=pd.Timedelta(\"2 day\"))\n",
    "\n",
    "interest_rates_ind = pd.read_csv(\"Dataset\\\\Interest_Rates_Interbank_Rates_India.csv\")\n",
    "interest_rates_ind['DATE'] = pd.to_datetime(interest_rates_ind['DATE'], format=\"%d-%m-%Y\")\n",
    "\n",
    "interest_rates_usa = pd.read_csv(\"Dataset\\\\Interest_Rates_Interbank_Rates_USA.csv\")\n",
    "interest_rates_usa['DATE'] = pd.to_datetime(interest_rates_usa['DATE'], format=\"%Y-%m-%d\")\n",
    "\n",
    "interest_rates_ind = interest_rates_ind.rename(columns={'DATE': 'DATE_Int_Ind', \"IRSTCI01INM156N\": \"Interest_Rate_Ind\"})\n",
    "interest_rates_usa = interest_rates_usa.rename(columns={'DATE': 'DATE_Int_US', \"IRSTCI01USM156N\" : \"Interest_Rate_US\"})\n",
    "\n",
    "df = pd.merge_asof(df, interest_rates_ind, left_on='Series Description', right_on= 'DATE_Int_Ind', direction='nearest', tolerance=pd.Timedelta(\"2 day\"))\n",
    "\n",
    "df = pd.merge_asof(df, interest_rates_usa, left_on='Series Description', right_on= 'DATE_Int_US', direction='nearest', tolerance=pd.Timedelta(\"2 day\"))\n",
    "\n",
    "gdp_ind = pd.read_csv(\"Dataset\\\\Normalized_GDP_India.csv\")\n",
    "gdp_ind['DATE'] = pd.to_datetime(gdp_ind['DATE'], format=\"%Y-%m-%d\")\n",
    "gdp_ind = gdp_ind.rename(columns={'DATE': 'DATE_Gdp_Ind', \"INDLORSGPNOSTSAM\":\"GDP_Ind\"})\n",
    "\n",
    "\n",
    "gdp_usa = pd.read_csv(\"Dataset\\\\Normalized_GDP_USA.csv\")\n",
    "gdp_usa['DATE'] = pd.to_datetime(gdp_usa['DATE'], format=\"%Y-%m-%d\")\n",
    "gdp_usa = gdp_usa.rename(columns={'DATE': 'DATE_Gdp_Usa', \"USALORSGPNOSTSAM\":\"GDP_Usa\"})\n",
    "\n",
    "df = pd.merge_asof(df, gdp_usa, left_on='Series Description', right_on= 'DATE_Gdp_Usa', direction='nearest', tolerance=pd.Timedelta(\"2 day\"))\n",
    "\n",
    "df = pd.merge_asof(df, gdp_ind, left_on='Series Description', right_on= 'DATE_Gdp_Ind', direction='nearest', tolerance=pd.Timedelta(\"2 day\"))\n",
    "\n",
    "\n",
    "\n",
    "drop_col = []\n",
    "for i in df.columns:\n",
    "    if df[i].isna().sum() > 0 and df[i].isna().sum() < 3000:\n",
    "        #print(i)\n",
    "        drop_col.append(i)\n",
    "    elif i.startswith(\"DATE\"):\n",
    "        drop_col.append(i)\n",
    "        \n",
    "df = df.drop(columns=drop_col)\n",
    "df = df.replace('ND', np.nan)\n",
    "\n",
    "\n",
    "df_indexed = df.set_index('Series Description')\n",
    "df_indexed = df_indexed.astype(np.float32)\n",
    "df_indexed = df_indexed.interpolate(\"time\", limit_direction=\"both\", limit=100)\n",
    "\n",
    "df_indexed = df_indexed[df_indexed.index < datetime.datetime.strptime(\"2022-12-31\", \"%Y-%m-%d\")] "
   ]
  },
  {
   "cell_type": "code",
   "execution_count": 5,
   "id": "5e5c8ab0",
   "metadata": {},
   "outputs": [
    {
     "name": "stderr",
     "output_type": "stream",
     "text": [
      "C:\\Users\\nikhi\\AppData\\Local\\Temp/ipykernel_10220/4056966036.py:4: SettingWithCopyWarning: \n",
      "A value is trying to be set on a copy of a slice from a DataFrame.\n",
      "Try using .loc[row_indexer,col_indexer] = value instead\n",
      "\n",
      "See the caveats in the documentation: https://pandas.pydata.org/pandas-docs/stable/user_guide/indexing.html#returning-a-view-versus-a-copy\n",
      "  final_df[\"India_Forex\"] = scaled_df[\"INDIA_Forex\"]\n"
     ]
    }
   ],
   "source": [
    "scaler = MinMaxScaler(feature_range=(0,1))\n",
    "scaled_df =  pd.DataFrame(scaler.fit_transform(df_indexed.values), columns=df_indexed.columns, index=df_indexed.index)\n",
    "final_df = scaled_df[[i for i in scaled_df.columns if \"Forex\" not in i]]\n",
    "final_df[\"India_Forex\"] = scaled_df[\"INDIA_Forex\"]\n",
    "final_df = final_df.reset_index(drop=True)"
   ]
  },
  {
   "cell_type": "code",
   "execution_count": 6,
   "id": "7752455d",
   "metadata": {},
   "outputs": [],
   "source": [
    "seq_len = 20\n",
    "data_X, data_Y = [], []\n",
    "for index, row in final_df.iterrows():\n",
    "    if index < seq_len:\n",
    "        continue\n",
    "    rows = final_df[index - seq_len : index]\n",
    "    data_X.append(rows.to_numpy().flatten())\n",
    "    data_Y.append(row['India_Forex'])\n",
    "\n",
    "break_index = round(len(data_X) * 0.8)\n",
    "train_X, train_Y = data_X[:break_index], data_Y[:break_index]\n",
    "test_x, test_y = data_X[break_index:], data_Y[break_index:]"
   ]
  },
  {
   "cell_type": "code",
   "execution_count": 7,
   "id": "d2beb57b",
   "metadata": {},
   "outputs": [],
   "source": [
    "train_X = np.array(train_X)\n",
    "train_Y = np.array(train_Y)\n",
    "test_x = np.array(test_x)\n",
    "test_y = np.array(test_y)\n",
    "\n",
    "train_X = np.reshape(train_X, [train_X.shape[0], seq_len, final_df.shape[1]])\n",
    "train_Y = np.reshape(train_Y, [train_Y.shape[0], 1])\n",
    "test_x = np.reshape(test_x, [test_x.shape[0], seq_len, final_df.shape[1]])\n",
    "test_y = np.reshape(test_y, [test_y.shape[0], 1])"
   ]
  },
  {
   "cell_type": "code",
   "execution_count": 15,
   "id": "bc5fcc72",
   "metadata": {},
   "outputs": [
    {
     "name": "stdout",
     "output_type": "stream",
     "text": [
      "Epoch 1/20\n",
      "188/188 [==============================] - 7s 15ms/step - loss: 0.0037\n",
      "Epoch 2/20\n",
      "188/188 [==============================] - 3s 18ms/step - loss: 3.5424e-04\n",
      "Epoch 3/20\n",
      "188/188 [==============================] - 4s 19ms/step - loss: 2.1935e-04\n",
      "Epoch 4/20\n",
      "188/188 [==============================] - 3s 18ms/step - loss: 1.8166e-04\n",
      "Epoch 5/20\n",
      "188/188 [==============================] - 3s 18ms/step - loss: 1.6136e-04\n",
      "Epoch 6/20\n",
      "188/188 [==============================] - 3s 19ms/step - loss: 1.5053e-04\n",
      "Epoch 7/20\n",
      "188/188 [==============================] - 3s 18ms/step - loss: 1.3739e-04\n",
      "Epoch 8/20\n",
      "188/188 [==============================] - 3s 18ms/step - loss: 1.3070e-04\n",
      "Epoch 9/20\n",
      "188/188 [==============================] - 3s 18ms/step - loss: 1.2681e-04\n",
      "Epoch 10/20\n",
      "188/188 [==============================] - 3s 18ms/step - loss: 1.2047e-04\n",
      "Epoch 11/20\n",
      "188/188 [==============================] - 3s 18ms/step - loss: 1.1556e-04\n",
      "Epoch 12/20\n",
      "188/188 [==============================] - 3s 18ms/step - loss: 1.1071e-04\n",
      "Epoch 13/20\n",
      "188/188 [==============================] - 3s 18ms/step - loss: 1.0892e-04\n",
      "Epoch 14/20\n",
      "188/188 [==============================] - 3s 18ms/step - loss: 1.0398e-04\n",
      "Epoch 15/20\n",
      "188/188 [==============================] - 4s 19ms/step - loss: 1.0135e-04\n",
      "Epoch 16/20\n",
      "188/188 [==============================] - 3s 18ms/step - loss: 9.8540e-05\n",
      "Epoch 17/20\n",
      "188/188 [==============================] - 3s 18ms/step - loss: 9.6437e-05\n",
      "Epoch 18/20\n",
      "188/188 [==============================] - 3s 18ms/step - loss: 9.5130e-05\n",
      "Epoch 19/20\n",
      "188/188 [==============================] - 3s 18ms/step - loss: 9.1765e-05\n",
      "Epoch 20/20\n",
      "188/188 [==============================] - 3s 18ms/step - loss: 9.0099e-05\n",
      "Model: \"sequential_5\"\n",
      "_________________________________________________________________\n",
      " Layer (type)                Output Shape              Param #   \n",
      "=================================================================\n",
      " simple_rnn_20 (SimpleRNN)   (None, 20, 50)            2900      \n",
      "                                                                 \n",
      " simple_rnn_21 (SimpleRNN)   (None, 20, 50)            5050      \n",
      "                                                                 \n",
      " simple_rnn_22 (SimpleRNN)   (None, 20, 50)            5050      \n",
      "                                                                 \n",
      " simple_rnn_23 (SimpleRNN)   (None, 50)                5050      \n",
      "                                                                 \n",
      " dense_5 (Dense)             (None, 1)                 51        \n",
      "                                                                 \n",
      "=================================================================\n",
      "Total params: 18101 (70.71 KB)\n",
      "Trainable params: 18101 (70.71 KB)\n",
      "Non-trainable params: 0 (0.00 Byte)\n",
      "_________________________________________________________________\n"
     ]
    }
   ],
   "source": [
    "regressor = Sequential()\n",
    " \n",
    "# adding RNN layers and dropout regularization\n",
    "regressor.add(SimpleRNN(units = 50, \n",
    "                        activation = \"tanh\",\n",
    "                        return_sequences = True,\n",
    "                        input_shape = (train_X.shape[1],train_X.shape[2])))\n",
    "#regressor.add(Dropout(0.2))\n",
    " \n",
    "regressor.add(SimpleRNN(units = 50, \n",
    "                        activation = \"tanh\",\n",
    "                        return_sequences = True))\n",
    " \n",
    "regressor.add(SimpleRNN(units = 50,\n",
    "                        activation = \"tanh\",\n",
    "                        return_sequences = True))\n",
    " \n",
    "regressor.add( SimpleRNN(units = 50))\n",
    " \n",
    "# adding the output layer\n",
    "regressor.add(Dense(units = 1,activation='sigmoid'))\n",
    " \n",
    "# compiling RNN\n",
    "regressor.compile(optimizer = SGD(learning_rate=0.01,\n",
    "                                  momentum=0.9, \n",
    "                                  nesterov=True), \n",
    "                  loss = \"mean_squared_error\")\n",
    " \n",
    "# fitting the model\n",
    "regressor.fit(train_X, train_Y, epochs = 20, batch_size = 30, verbose=1)\n",
    "regressor.summary()"
   ]
  },
  {
   "cell_type": "code",
   "execution_count": 16,
   "id": "54835703",
   "metadata": {},
   "outputs": [
    {
     "name": "stdout",
     "output_type": "stream",
     "text": [
      "44/44 [==============================] - 1s 5ms/step\n"
     ]
    },
    {
     "data": {
      "image/png": "[encoded data removed]",
      "text/plain": [
       "<Figure size 432x288 with 1 Axes>"
      ]
     },
     "metadata": {
      "needs_background": "light"
     },
     "output_type": "display_data"
    }
   ],
   "source": [
    "y_pred = regressor.predict(test_x)\n",
    "rms = mean_squared_error(test_y, y_pred)\n",
    "# fig, axs = plt.subplots(2,figsize =(18,12),sharex=True, sharey=True)\n",
    "# axs[0].plot(test_y)\n",
    "# axs[1].plot(y_pred)\n",
    "y_vals = scaled_df.iloc[-len(test_y):].index\n",
    "plt.plot(y_vals, test_y, color='red')\n",
    "plt.plot(y_vals, y_pred)\n",
    "#plt.yscale()\n",
    "plt.show()"
   ]
  },
  {
   "cell_type": "code",
   "execution_count": 17,
   "id": "cf47f689",
   "metadata": {},
   "outputs": [
    {
     "name": "stdout",
     "output_type": "stream",
     "text": [
      "0.0033750243\n"
     ]
    }
   ],
   "source": [
    "print(rms)\n"
   ]
  },
  {
   "cell_type": "code",
   "execution_count": null,
   "id": "034c1b24",
   "metadata": {},
   "outputs": [],
   "source": []
  }
 ],
 "metadata": {
  "kernelspec": {
   "display_name": "Python 3 (ipykernel)",
   "language": "python",
   "name": "python3"
  },
  "language_info": {
   "codemirror_mode": {
    "name": "ipython",
    "version": 3
   },
   "file_extension": ".py",
   "mimetype": "text/x-python",
   "name": "python",
   "nbconvert_exporter": "python",
   "pygments_lexer": "ipython3",
   "version": "3.9.7"
  }
 },
 "nbformat": 4,
 "nbformat_minor": 5
}
